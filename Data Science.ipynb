{
 "cells": [
  {
   "cell_type": "markdown",
   "id": "8a1d2d9d",
   "metadata": {},
   "source": [
    "Title of the Notebook"
   ]
  },
  {
   "cell_type": "markdown",
   "id": "a6d687fa",
   "metadata": {},
   "source": [
    "Introduction"
   ]
  },
  {
   "cell_type": "markdown",
   "id": "2515b73c",
   "metadata": {},
   "source": [
    "Python, Scala, JavaScript, SQL, Julia"
   ]
  },
  {
   "cell_type": "markdown",
   "id": "27c749d6",
   "metadata": {},
   "source": [
    "Scikit-Learn, TensorFlow, Theano"
   ]
  },
  {
   "cell_type": "markdown",
   "id": "5841ed5e",
   "metadata": {},
   "source": [
    "Apache Spark, RapidMiner, MATLAB, TensorFlow"
   ]
  },
  {
   "cell_type": "markdown",
   "id": "034550bf",
   "metadata": {},
   "source": [
    "# Arithmetic Expression Examples\n",
    "\n",
    "## Basic Arithmetic Operations\n",
    "\n",
    "### Addition\n",
    "\n",
    "Addition is the process of combining two or more numbers to find their sum.\n",
    "\n",
    "Example: \\(3 + 5 = 8\\)\n",
    "\n",
    "### Subtraction\n",
    "\n",
    "Subtraction involves taking away one number from another to find the difference.\n",
    "\n",
    "Example: \\(10 - 4 = 6\\)\n",
    "\n",
    "### Multiplication\n",
    "\n",
    "Multiplication is the process of repeated addition. It's used to find the total when a number is added to itself multiple times.\n",
    "\n",
    "Example: \\(4 \\times 6 = 24\\)\n",
    "\n",
    "### Division\n",
    "\n",
    "Division is the process of splitting a number into equal parts or finding how many times one number is contained within another.\n",
    "\n",
    "Example: \\(12 \\div 3 = 4\\)\n",
    "\n",
    "## More Complex Expressions\n",
    "\n",
    "### Order of Operations\n",
    "\n",
    "Arithmetic expressions can become more complex when multiple operations are involved. The order of operations, often remembered using the acronym PEMDAS (Parentheses, Exponents, Multiplication and Division, Addition and Subtraction), dictates the sequence in which calculations are performed.\n",
    "\n",
    "Example: \\(2 \\times (3 + 4) = 14\\)\n",
    "\n",
    "### Fractions\n",
    "\n",
    "Fractions represent parts of a whole and involve division. They can be added, subtracted, multiplied, or divided.\n",
    "\n",
    "Example: \\(\\frac{3}{4} + \\frac{1}{4} = \\frac{4}{4} = 1\\)\n",
    "\n",
    "### Exponents\n",
    "\n",
    "Exponents indicate repeated multiplication of a base number.\n",
    "\n",
    "Example: \\(2^3 = 2 \\times 2 \\times 2 = 8\\)\n",
    "\n",
    "### Square Roots\n",
    "\n",
    "The square root of a number (\\(\\sqrt{x}\\)) is a value that, when multiplied by itself, equals \\(x\\).\n",
    "\n",
    "Example: \\(\\sqrt{25} = 5\\)\n",
    "\n",
    "## Conclusion\n",
    "\n",
    "Arithmetic expressions are the building blocks of mathematics and play a crucial role in various fields, including programming, engineering, and finance. Understanding these basic operations and their applications is essential for solving a wide range of mathematical problems.\n"
   ]
  },
  {
   "cell_type": "code",
   "execution_count": 1,
   "id": "5211f4bb",
   "metadata": {},
   "outputs": [
    {
     "name": "stdout",
     "output_type": "stream",
     "text": [
      "Multiplication: 5 * 3 = 15\n",
      "Addition: 5 + 3 = 8\n"
     ]
    }
   ],
   "source": [
    "# Multiplication and Addition Example\n",
    "\n",
    "# Define two numbers\n",
    "number1 = 5\n",
    "number2 = 3\n",
    "\n",
    "# Multiply the numbers\n",
    "result_multiply = number1 * number2\n",
    "\n",
    "# Add the numbers\n",
    "result_add = number1 + number2\n",
    "\n",
    "# Print the results\n",
    "print(f\"Multiplication: {number1} * {number2} = {result_multiply}\")\n",
    "print(f\"Addition: {number1} + {number2} = {result_add}\")\n"
   ]
  },
  {
   "cell_type": "code",
   "execution_count": 2,
   "id": "0d0d6deb",
   "metadata": {},
   "outputs": [
    {
     "name": "stdout",
     "output_type": "stream",
     "text": [
      "120 minutes is equal to 2.0 hours.\n"
     ]
    }
   ],
   "source": [
    "# Convert Minutes to Hours Example\n",
    "\n",
    "# Define the number of minutes\n",
    "minutes = 120\n",
    "\n",
    "# Convert minutes to hours\n",
    "hours = minutes / 60\n",
    "\n",
    "# Print the result\n",
    "print(f\"{minutes} minutes is equal to {hours} hours.\")\n"
   ]
  },
  {
   "cell_type": "markdown",
   "id": "7755f8de",
   "metadata": {},
   "source": [
    "## Objectives\n",
    "\n",
    "- Understand the basics of arithmetic expressions.\n",
    "- Learn how to perform addition, subtraction, multiplication, and division in Python.\n",
    "- Explore different mathematical operations and their use in programming.\n",
    "- Practice converting units of measurement, such as minutes to hours.\n",
    "- Gain familiarity with Jupyter Notebook and markdown cells.\n"
   ]
  },
  {
   "cell_type": "markdown",
   "id": "8dae0d64",
   "metadata": {},
   "source": [
    "Author's Name - B Vishnu Vigith"
   ]
  },
  {
   "cell_type": "code",
   "execution_count": null,
   "id": "93b9004f",
   "metadata": {},
   "outputs": [],
   "source": []
  }
 ],
 "metadata": {
  "kernelspec": {
   "display_name": "Python 3",
   "language": "python",
   "name": "python3"
  },
  "language_info": {
   "codemirror_mode": {
    "name": "ipython",
    "version": 3
   },
   "file_extension": ".py",
   "mimetype": "text/x-python",
   "name": "python",
   "nbconvert_exporter": "python",
   "pygments_lexer": "ipython3",
   "version": "3.8.8"
  }
 },
 "nbformat": 4,
 "nbformat_minor": 5
}
